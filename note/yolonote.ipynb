{
 "cells": [
  {
   "cell_type": "markdown",
   "source": [
    "YOLOv7模型的工作流程"
   ],
   "metadata": {
    "collapsed": false
   }
  },
  {
   "cell_type": "markdown",
   "source": [
    "YOLOv7网络结构\n",
    "/cfg/deploy目录下的文件\n",
    "yolov7-tiny.yaml以及yolov7-tiny-silu.yaml配置文件主要用于边缘GPU的模型\n",
    "yolov7和yolov7x是两个用于常规gpu的模型\n",
    "剩下的都是适用于云gpu的模型\n",
    "\n",
    "\n"
   ],
   "metadata": {
    "collapsed": false
   }
  }
 ],
 "metadata": {
  "kernelspec": {
   "display_name": "Python 3",
   "language": "python",
   "name": "python3"
  },
  "language_info": {
   "codemirror_mode": {
    "name": "ipython",
    "version": 2
   },
   "file_extension": ".py",
   "mimetype": "text/x-python",
   "name": "python",
   "nbconvert_exporter": "python",
   "pygments_lexer": "ipython2",
   "version": "2.7.6"
  }
 },
 "nbformat": 4,
 "nbformat_minor": 0
}
